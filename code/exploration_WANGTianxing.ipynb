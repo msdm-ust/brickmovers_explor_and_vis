{
 "cells": [
  {
   "cell_type": "markdown",
   "metadata": {},
   "source": [
    "# Data Exploration"
   ]
  },
  {
   "cell_type": "markdown",
   "metadata": {},
   "source": [
    "## Instructions\n",
    "There are some data files related to transaction saved under the [data](../data) folder:\n",
    "- Looking into the data using appropriate functions and extract the fields in the data.\n",
    "- For each data, describe what the data is about and what fields are saved.\n",
    "\n",
    "You need to answer the questions and perform the task below:\n",
    "- How many transactions are in GBP?\n",
    "- How many transactions are NOT in USD?\n",
    "- What is the average and mediam transaction in USD?\n",
    "- Construct a table showing the number of transactions in EACH currency\n",
    "\n",
    "Note:\n",
    "- You are NOT ALLOWED to import other library or package\n",
    "- You can write you own functions\n",
    "- Your answers should be readable with approprate comments\n",
    "- You can refer to [markdown cheatsheet](https://github.com/adam-p/markdown-here/wiki/Markdown-Cheatsheet) if you are not familar with Markdown"
   ]
  },
  {
   "cell_type": "markdown",
   "metadata": {},
   "source": [
    "## Import libraries "
   ]
  },
  {
   "cell_type": "code",
   "execution_count": 2,
   "metadata": {},
   "outputs": [],
   "source": [
    "# Usual libraries are imported here\n",
    "import os\n",
    "import yaml\n",
    "import dask.dataframe as dd\n",
    "import pandas as pd\n",
    "import matplotlib\n",
    "import numpy as np\n",
    "import matplotlib.pyplot as plt\n",
    "%matplotlib inline"
   ]
  },
  {
   "cell_type": "markdown",
   "metadata": {},
   "source": [
    "## Please perform your tasks below and answer the questions"
   ]
  },
  {
   "cell_type": "markdown",
   "metadata": {},
   "source": [
    "### How many transactions are in GBP?"
   ]
  },
  {
   "cell_type": "code",
   "execution_count": 20,
   "metadata": {},
   "outputs": [
    {
     "name": "stdout",
     "output_type": "stream",
     "text": [
      "There are 339091 transactions in GBP\n"
     ]
    }
   ],
   "source": [
    "transactions=pd.read_csv('transactions.csv')\n",
    "#ransactions.head(10)\n",
    "gbp_times=transactions['CURRENCY'].value_counts()['GBP']\n",
    "print('There are %d transactions in GBP'%gbp_times)\n"
   ]
  },
  {
   "cell_type": "markdown",
   "metadata": {},
   "source": [
    "### How many transactions are NOT in USD"
   ]
  },
  {
   "cell_type": "code",
   "execution_count": 23,
   "metadata": {},
   "outputs": [
    {
     "name": "stdout",
     "output_type": "stream",
     "text": [
      "There are 657109 transactions not in USD\n"
     ]
    }
   ],
   "source": [
    "usd_times=transactions['CURRENCY'].value_counts()['USD']\n",
    "total=transactions.shape[0]\n",
    "not_usd=total-usd_times\n",
    "print('There are %d transactions not in USD'%not_usd)"
   ]
  },
  {
   "cell_type": "markdown",
   "metadata": {},
   "source": [
    "### What is the average and mediam transaction in USD? "
   ]
  },
  {
   "cell_type": "code",
   "execution_count": 25,
   "metadata": {},
   "outputs": [
    {
     "name": "stdout",
     "output_type": "stream",
     "text": [
      "The average is 7130792.755 and mediam is 1475.000\n"
     ]
    }
   ],
   "source": [
    "average=transactions['AMOUNT_USD'].mean()\n",
    "mediam=transactions['AMOUNT_USD'].median()\n",
    "print('The average is %.3f and mediam is %.3f'%(average,mediam))"
   ]
  },
  {
   "cell_type": "markdown",
   "metadata": {},
   "source": [
    "### Construct a table showing the number of transactions in EACH currency"
   ]
  },
  {
   "cell_type": "code",
   "execution_count": 26,
   "metadata": {},
   "outputs": [
    {
     "data": {
      "text/plain": [
       "GBP    339091\n",
       "EUR    264695\n",
       "USD     31542\n",
       "PLN     22362\n",
       "RON      5837\n",
       "CHF      5761\n",
       "NOK      2602\n",
       "AUD      2110\n",
       "DKK      1711\n",
       "SEK      1579\n",
       "CZK      1507\n",
       "CAD      1463\n",
       "HUF      1446\n",
       "ZAR      1126\n",
       "AED       847\n",
       "JPY       733\n",
       "NZD       717\n",
       "THB       690\n",
       "ILS       522\n",
       "SGD       487\n",
       "HKD       480\n",
       "TRY       338\n",
       "BTC       283\n",
       "INR       207\n",
       "ETH       197\n",
       "LTC       137\n",
       "MAD       115\n",
       "XRP        38\n",
       "QAR        28\n",
       "Name: CURRENCY, dtype: int64"
      ]
     },
     "execution_count": 26,
     "metadata": {},
     "output_type": "execute_result"
    }
   ],
   "source": [
    "transactions['CURRENCY'].value_counts()"
   ]
  },
  {
   "cell_type": "code",
   "execution_count": null,
   "metadata": {},
   "outputs": [],
   "source": []
  }
 ],
 "metadata": {
  "kernelspec": {
   "display_name": "Python 3",
   "language": "python",
   "name": "python3"
  },
  "language_info": {
   "codemirror_mode": {
    "name": "ipython",
    "version": 3
   },
   "file_extension": ".py",
   "mimetype": "text/x-python",
   "name": "python",
   "nbconvert_exporter": "python",
   "pygments_lexer": "ipython3",
   "version": "3.8.8"
  }
 },
 "nbformat": 4,
 "nbformat_minor": 4
}
