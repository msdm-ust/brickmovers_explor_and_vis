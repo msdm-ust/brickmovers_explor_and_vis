{
 "cells": [
  {
   "cell_type": "markdown",
   "metadata": {},
   "source": [
    "# Data Exploration"
   ]
  },
  {
   "cell_type": "markdown",
   "metadata": {},
   "source": [
    "## Instructions\n",
    "There are some data files related to transaction saved under the [data](../data) folder:\n",
    "- Looking into the data using appropriate functions and extract the fields in the data.\n",
    "- For each data, describe what the data is about and what fields are saved.\n",
    "\n",
    "You need to answer the questions and perform the task below:\n",
    "- How many transactions are in GBP?\n",
    "- How many transactions are NOT in USD?\n",
    "- What is the average and mediam transaction in USD?\n",
    "- Construct a table showing the number of transactions in EACH currency\n",
    "\n",
    "Note:\n",
    "- You are NOT ALLOWED to import other library or package\n",
    "- You can write you own functions\n",
    "- Your answers should be readable with approprate comments\n",
    "- You can refer to [markdown cheatsheet](https://github.com/adam-p/markdown-here/wiki/Markdown-Cheatsheet) if you are not familar with Markdown"
   ]
  },
  {
   "cell_type": "markdown",
   "metadata": {},
   "source": [
    "## Import libraries "
   ]
  },
  {
   "cell_type": "code",
   "execution_count": 1,
   "metadata": {},
   "outputs": [],
   "source": [
    "# Usual libraries are imported here\n",
    "import os\n",
    "import yaml\n",
    "import dask.dataframe as dd\n",
    "import pandas as pd\n",
    "import matplotlib\n",
    "import numpy as np\n",
    "import matplotlib.pyplot as plt\n",
    "%matplotlib inline"
   ]
  },
  {
   "cell_type": "markdown",
   "metadata": {},
   "source": [
    "## Please perform your tasks below and answer the questions"
   ]
  },
  {
   "cell_type": "markdown",
   "metadata": {},
   "source": [
    "## Read data into the environment"
   ]
  },
  {
   "cell_type": "code",
   "execution_count": 4,
   "metadata": {},
   "outputs": [],
   "source": [
    "transaction_df = pd.read_csv(\"~/Documents/GitHub/brickmovers_explor_and_vis/data/transactions.csv\")"
   ]
  },
  {
   "cell_type": "markdown",
   "metadata": {},
   "source": [
    "## 1. How many transactions are in GBP?"
   ]
  },
  {
   "cell_type": "code",
   "execution_count": 46,
   "metadata": {},
   "outputs": [
    {
     "name": "stdout",
     "output_type": "stream",
     "text": [
      "There are 339091 transactions in GBP\n"
     ]
    }
   ],
   "source": [
    "# extract data with GBP currency\n",
    "transaction_GBP_df = transaction_df[transaction_df['CURRENCY']==\"GBP\"] \n",
    "\n",
    "print(f\"There are {transaction_GBP_df.shape[0]} transactions in GBP\")"
   ]
  },
  {
   "cell_type": "markdown",
   "metadata": {},
   "source": [
    "## 2. How many transactions are NOT in USD?"
   ]
  },
  {
   "cell_type": "code",
   "execution_count": 48,
   "metadata": {},
   "outputs": [
    {
     "name": "stdout",
     "output_type": "stream",
     "text": [
      "There are 657109 transactions not in USD\n"
     ]
    }
   ],
   "source": [
    "# extract data with USD currency\n",
    "# not_USD = total - USD\n",
    "transaction_USD_df = transaction_df[transaction_df['CURRENCY']==\"USD\"]\n",
    "\n",
    "print(f\"There are {transaction_df.shape[0] - transaction_USD_df.shape[0]} transactions not in USD\")"
   ]
  },
  {
   "cell_type": "markdown",
   "metadata": {},
   "source": [
    "## 3. What is the average and mediam transaction in USD?"
   ]
  },
  {
   "cell_type": "code",
   "execution_count": 25,
   "metadata": {},
   "outputs": [
    {
     "name": "stdout",
     "output_type": "stream",
     "text": [
      "The average of transaction in USD is 11598.75\n",
      "The median of transaction in USD is 2000.0\n"
     ]
    }
   ],
   "source": [
    "print(f\"The average of transaction in USD is {round(transaction_USD_df['AMOUNT'].mean(),2)}\")\n",
    "print(f\"The median of transaction in USD is {round(transaction_USD_df['AMOUNT'].median(),2)}\")"
   ]
  },
  {
   "cell_type": "code",
   "execution_count": 30,
   "metadata": {},
   "outputs": [],
   "source": [
    "# detected an extreme outlier with transaction amount == 16412114\n",
    "# transaction_USD_df[transaction_USD_df['AMOUNT'] == transaction_USD_df['AMOUNT'].max()]"
   ]
  },
  {
   "cell_type": "markdown",
   "metadata": {},
   "source": [
    "## 4. Construct a table showing the number of transactions in EACH currency"
   ]
  },
  {
   "cell_type": "code",
   "execution_count": 45,
   "metadata": {},
   "outputs": [
    {
     "name": "stdout",
     "output_type": "stream",
     "text": [
      "          AMOUNT\n",
      "CURRENCY        \n",
      "AED          847\n",
      "AUD         2110\n",
      "BTC          283\n",
      "CAD         1463\n",
      "CHF         5761\n",
      "CZK         1507\n",
      "DKK         1711\n",
      "ETH          197\n",
      "EUR       264695\n",
      "GBP       339091\n",
      "HKD          480\n",
      "HUF         1446\n",
      "ILS          522\n",
      "INR          207\n",
      "JPY          733\n",
      "LTC          137\n",
      "MAD          115\n",
      "NOK         2602\n",
      "NZD          717\n",
      "PLN        22362\n",
      "QAR           28\n",
      "RON         5837\n",
      "SEK         1579\n",
      "SGD          487\n",
      "THB          690\n",
      "TRY          338\n",
      "USD        31542\n",
      "XRP           38\n",
      "ZAR         1126\n"
     ]
    }
   ],
   "source": [
    "print(transaction_df.groupby(\"CURRENCY\")['AMOUNT'].count().to_frame())"
   ]
  },
  {
   "cell_type": "code",
   "execution_count": null,
   "metadata": {},
   "outputs": [],
   "source": []
  }
 ],
 "metadata": {
  "kernelspec": {
   "display_name": "Python 3 (ipykernel)",
   "language": "python",
   "name": "python3"
  },
  "language_info": {
   "codemirror_mode": {
    "name": "ipython",
    "version": 3
   },
   "file_extension": ".py",
   "mimetype": "text/x-python",
   "name": "python",
   "nbconvert_exporter": "python",
   "pygments_lexer": "ipython3",
   "version": "3.8.12"
  }
 },
 "nbformat": 4,
 "nbformat_minor": 4
}
