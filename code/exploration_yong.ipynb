{
 "cells": [
  {
   "cell_type": "markdown",
   "metadata": {},
   "source": [
    "# Data Exploration"
   ]
  },
  {
   "cell_type": "markdown",
   "metadata": {},
   "source": [
    "## Instructions\n",
    "There are some data files related to transaction saved under the [data](../data) folder:\n",
    "- Looking into the data using appropriate functions and extract the fields in the data.\n",
    "- For each data, describe what the data is about and what fields are saved.\n",
    "\n",
    "You need to answer the questions and perform the task below:\n",
    "- How many transactions are in GBP?\n",
    "- How many transactions are NOT in USD?\n",
    "- What is the average and mediam transaction in USD?\n",
    "- Construct a table showing the number of transactions in EACH currency\n",
    "\n",
    "Note:\n",
    "- You are NOT ALLOWED to import other library or package\n",
    "- You can write you own functions\n",
    "- Your answers should be readable with approprate comments\n",
    "- You can refer to [markdown cheatsheet](https://github.com/adam-p/markdown-here/wiki/Markdown-Cheatsheet) if you are not familar with Markdown"
   ]
  },
  {
   "cell_type": "markdown",
   "metadata": {},
   "source": [
    "## Import libraries "
   ]
  },
  {
   "cell_type": "code",
   "execution_count": 1,
   "metadata": {},
   "outputs": [],
   "source": [
    "# Usual libraries are imported here\n",
    "import os\n",
    "import yaml\n",
    "import dask.dataframe as dd\n",
    "import pandas as pd\n",
    "import matplotlib\n",
    "import numpy as np\n",
    "import matplotlib.pyplot as plt\n",
    "%matplotlib inline"
   ]
  },
  {
   "cell_type": "markdown",
   "metadata": {},
   "source": [
    "## Please perform your tasks below and answer the questions"
   ]
  },
  {
   "cell_type": "markdown",
   "metadata": {},
   "source": [
    "### 0. Data preprocessing"
   ]
  },
  {
   "cell_type": "code",
   "execution_count": 2,
   "metadata": {},
   "outputs": [],
   "source": [
    "df = pd.read_csv('/Users/yangyong/Documents/文稿/git/brickmovers_explor_and_vis-1/data/transactions.csv')"
   ]
  },
  {
   "cell_type": "code",
   "execution_count": 3,
   "metadata": {},
   "outputs": [
    {
     "data": {
      "text/html": [
       "<div>\n",
       "<style scoped>\n",
       "    .dataframe tbody tr th:only-of-type {\n",
       "        vertical-align: middle;\n",
       "    }\n",
       "\n",
       "    .dataframe tbody tr th {\n",
       "        vertical-align: top;\n",
       "    }\n",
       "\n",
       "    .dataframe thead th {\n",
       "        text-align: right;\n",
       "    }\n",
       "</style>\n",
       "<table border=\"1\" class=\"dataframe\">\n",
       "  <thead>\n",
       "    <tr style=\"text-align: right;\">\n",
       "      <th></th>\n",
       "      <th>CURRENCY</th>\n",
       "      <th>AMOUNT</th>\n",
       "      <th>STATE</th>\n",
       "      <th>CREATED_DATE</th>\n",
       "      <th>MERCHANT_CATEGORY</th>\n",
       "      <th>MERCHANT_COUNTRY</th>\n",
       "      <th>ENTRY_METHOD</th>\n",
       "      <th>USER_ID</th>\n",
       "      <th>TYPE</th>\n",
       "      <th>SOURCE</th>\n",
       "      <th>ID</th>\n",
       "      <th>AMOUNT_USD</th>\n",
       "    </tr>\n",
       "  </thead>\n",
       "  <tbody>\n",
       "    <tr>\n",
       "      <th>0</th>\n",
       "      <td>GBP</td>\n",
       "      <td>175</td>\n",
       "      <td>COMPLETED</td>\n",
       "      <td>2017-12-20 12:46:20.294</td>\n",
       "      <td>cafe</td>\n",
       "      <td>GBR</td>\n",
       "      <td>cont</td>\n",
       "      <td>8f99c254-7cf2-4e35-b7e4-53804d42445d</td>\n",
       "      <td>CARD_PAYMENT</td>\n",
       "      <td>GAIA</td>\n",
       "      <td>b3332e6f-7865-4d6e-b6a5-370bc75568d8</td>\n",
       "      <td>220</td>\n",
       "    </tr>\n",
       "    <tr>\n",
       "      <th>1</th>\n",
       "      <td>EUR</td>\n",
       "      <td>2593</td>\n",
       "      <td>COMPLETED</td>\n",
       "      <td>2017-12-20 12:38:47.232</td>\n",
       "      <td>bar</td>\n",
       "      <td>AUS</td>\n",
       "      <td>cont</td>\n",
       "      <td>ed773c34-2b83-4f70-a691-6a7aa1cb9f11</td>\n",
       "      <td>CARD_PAYMENT</td>\n",
       "      <td>GAIA</td>\n",
       "      <td>853d9ff8-a007-40ef-91a2-7d81e29a309a</td>\n",
       "      <td>2885</td>\n",
       "    </tr>\n",
       "    <tr>\n",
       "      <th>2</th>\n",
       "      <td>EUR</td>\n",
       "      <td>1077</td>\n",
       "      <td>COMPLETED</td>\n",
       "      <td>2017-12-20 12:34:39.668</td>\n",
       "      <td>NaN</td>\n",
       "      <td>CZE</td>\n",
       "      <td>cont</td>\n",
       "      <td>eb349cc1-e986-4bf4-bb75-72280a7b8680</td>\n",
       "      <td>CARD_PAYMENT</td>\n",
       "      <td>GAIA</td>\n",
       "      <td>04de8238-7828-4e46-91f1-050a9aa7a9df</td>\n",
       "      <td>1198</td>\n",
       "    </tr>\n",
       "    <tr>\n",
       "      <th>3</th>\n",
       "      <td>GBP</td>\n",
       "      <td>198</td>\n",
       "      <td>COMPLETED</td>\n",
       "      <td>2017-12-20 12:45:50.555</td>\n",
       "      <td>supermarket</td>\n",
       "      <td>GBR</td>\n",
       "      <td>cont</td>\n",
       "      <td>dc78fbc4-c936-45d3-a813-e2477ac6d74b</td>\n",
       "      <td>CARD_PAYMENT</td>\n",
       "      <td>GAIA</td>\n",
       "      <td>2b790b9b-c312-4098-a4b3-4830fc8cda53</td>\n",
       "      <td>249</td>\n",
       "    </tr>\n",
       "    <tr>\n",
       "      <th>4</th>\n",
       "      <td>EUR</td>\n",
       "      <td>990</td>\n",
       "      <td>COMPLETED</td>\n",
       "      <td>2017-12-20 12:45:32.722</td>\n",
       "      <td>NaN</td>\n",
       "      <td>FRA</td>\n",
       "      <td>cont</td>\n",
       "      <td>32958a5c-2532-42f7-94f9-127f2a812a55</td>\n",
       "      <td>CARD_PAYMENT</td>\n",
       "      <td>GAIA</td>\n",
       "      <td>6469fc3a-e535-41e9-91b9-acb46d1cc65d</td>\n",
       "      <td>1101</td>\n",
       "    </tr>\n",
       "  </tbody>\n",
       "</table>\n",
       "</div>"
      ],
      "text/plain": [
       "  CURRENCY  AMOUNT      STATE             CREATED_DATE MERCHANT_CATEGORY  \\\n",
       "0      GBP     175  COMPLETED  2017-12-20 12:46:20.294              cafe   \n",
       "1      EUR    2593  COMPLETED  2017-12-20 12:38:47.232               bar   \n",
       "2      EUR    1077  COMPLETED  2017-12-20 12:34:39.668               NaN   \n",
       "3      GBP     198  COMPLETED  2017-12-20 12:45:50.555       supermarket   \n",
       "4      EUR     990  COMPLETED  2017-12-20 12:45:32.722               NaN   \n",
       "\n",
       "  MERCHANT_COUNTRY ENTRY_METHOD                               USER_ID  \\\n",
       "0              GBR         cont  8f99c254-7cf2-4e35-b7e4-53804d42445d   \n",
       "1              AUS         cont  ed773c34-2b83-4f70-a691-6a7aa1cb9f11   \n",
       "2              CZE         cont  eb349cc1-e986-4bf4-bb75-72280a7b8680   \n",
       "3              GBR         cont  dc78fbc4-c936-45d3-a813-e2477ac6d74b   \n",
       "4              FRA         cont  32958a5c-2532-42f7-94f9-127f2a812a55   \n",
       "\n",
       "           TYPE SOURCE                                    ID  AMOUNT_USD  \n",
       "0  CARD_PAYMENT   GAIA  b3332e6f-7865-4d6e-b6a5-370bc75568d8         220  \n",
       "1  CARD_PAYMENT   GAIA  853d9ff8-a007-40ef-91a2-7d81e29a309a        2885  \n",
       "2  CARD_PAYMENT   GAIA  04de8238-7828-4e46-91f1-050a9aa7a9df        1198  \n",
       "3  CARD_PAYMENT   GAIA  2b790b9b-c312-4098-a4b3-4830fc8cda53         249  \n",
       "4  CARD_PAYMENT   GAIA  6469fc3a-e535-41e9-91b9-acb46d1cc65d        1101  "
      ]
     },
     "execution_count": 3,
     "metadata": {},
     "output_type": "execute_result"
    }
   ],
   "source": [
    "df.head()"
   ]
  },
  {
   "cell_type": "code",
   "execution_count": 4,
   "metadata": {},
   "outputs": [
    {
     "data": {
      "text/plain": [
       "Index(['CURRENCY', 'AMOUNT', 'STATE', 'CREATED_DATE', 'MERCHANT_CATEGORY',\n",
       "       'MERCHANT_COUNTRY', 'ENTRY_METHOD', 'USER_ID', 'TYPE', 'SOURCE', 'ID',\n",
       "       'AMOUNT_USD'],\n",
       "      dtype='object')"
      ]
     },
     "execution_count": 4,
     "metadata": {},
     "output_type": "execute_result"
    }
   ],
   "source": [
    "df.columns"
   ]
  },
  {
   "cell_type": "markdown",
   "metadata": {},
   "source": [
    "### 1. How many transactions are in GBP?"
   ]
  },
  {
   "cell_type": "code",
   "execution_count": 5,
   "metadata": {},
   "outputs": [
    {
     "name": "stdout",
     "output_type": "stream",
     "text": [
      "339091 transactions are in GBP.\n"
     ]
    }
   ],
   "source": [
    "cnt_GBP = df['CURRENCY'].value_counts()['GBP']\n",
    "print(f'{cnt_GBP} transactions are in GBP.')"
   ]
  },
  {
   "cell_type": "markdown",
   "metadata": {},
   "source": [
    "### 2. How many transactions are NOT in USD?"
   ]
  },
  {
   "cell_type": "code",
   "execution_count": 6,
   "metadata": {},
   "outputs": [
    {
     "name": "stdout",
     "output_type": "stream",
     "text": [
      "657109 transactions are not in USD.\n"
     ]
    }
   ],
   "source": [
    "cnt_USD = df['CURRENCY'].value_counts()['USD']\n",
    "cnt_totoal = df.shape[0]\n",
    "\n",
    "print(f'{cnt_totoal - cnt_USD} transactions are not in USD.')"
   ]
  },
  {
   "cell_type": "markdown",
   "metadata": {},
   "source": [
    "### 3. What is the average and mediam transaction in USD?"
   ]
  },
  {
   "cell_type": "code",
   "execution_count": 7,
   "metadata": {},
   "outputs": [
    {
     "data": {
      "text/html": [
       "<div>\n",
       "<style scoped>\n",
       "    .dataframe tbody tr th:only-of-type {\n",
       "        vertical-align: middle;\n",
       "    }\n",
       "\n",
       "    .dataframe tbody tr th {\n",
       "        vertical-align: top;\n",
       "    }\n",
       "\n",
       "    .dataframe thead th {\n",
       "        text-align: right;\n",
       "    }\n",
       "</style>\n",
       "<table border=\"1\" class=\"dataframe\">\n",
       "  <thead>\n",
       "    <tr style=\"text-align: right;\">\n",
       "      <th></th>\n",
       "      <th>CURRENCY</th>\n",
       "      <th>AMOUNT</th>\n",
       "      <th>STATE</th>\n",
       "      <th>CREATED_DATE</th>\n",
       "      <th>MERCHANT_CATEGORY</th>\n",
       "      <th>MERCHANT_COUNTRY</th>\n",
       "      <th>ENTRY_METHOD</th>\n",
       "      <th>USER_ID</th>\n",
       "      <th>TYPE</th>\n",
       "      <th>SOURCE</th>\n",
       "      <th>ID</th>\n",
       "      <th>AMOUNT_USD</th>\n",
       "    </tr>\n",
       "  </thead>\n",
       "  <tbody>\n",
       "    <tr>\n",
       "      <th>69</th>\n",
       "      <td>USD</td>\n",
       "      <td>470000</td>\n",
       "      <td>COMPLETED</td>\n",
       "      <td>2017-12-20 13:36:53.784</td>\n",
       "      <td>NaN</td>\n",
       "      <td>NaN</td>\n",
       "      <td>misc</td>\n",
       "      <td>50711c3a-c796-45d0-b84e-585a2048491d</td>\n",
       "      <td>BANK_TRANSFER</td>\n",
       "      <td>CRONUS</td>\n",
       "      <td>7a0cca0b-c78f-4599-99d6-44a29e69b4f5</td>\n",
       "      <td>470000</td>\n",
       "    </tr>\n",
       "    <tr>\n",
       "      <th>197</th>\n",
       "      <td>USD</td>\n",
       "      <td>100</td>\n",
       "      <td>REVERTED</td>\n",
       "      <td>2017-12-20 15:54:00.912</td>\n",
       "      <td>atm</td>\n",
       "      <td>GBR</td>\n",
       "      <td>manu</td>\n",
       "      <td>c1e14f12-eb4b-4d9e-967c-e5f4ccd39197</td>\n",
       "      <td>CARD_PAYMENT</td>\n",
       "      <td>GAIA</td>\n",
       "      <td>503e4a7a-e064-4434-b35b-484f475666f4</td>\n",
       "      <td>100</td>\n",
       "    </tr>\n",
       "    <tr>\n",
       "      <th>214</th>\n",
       "      <td>USD</td>\n",
       "      <td>3469</td>\n",
       "      <td>COMPLETED</td>\n",
       "      <td>2017-12-20 16:30:39.077</td>\n",
       "      <td>NaN</td>\n",
       "      <td>BHS</td>\n",
       "      <td>chip</td>\n",
       "      <td>4ada4c42-4d43-4820-ab37-349c8030f1b0</td>\n",
       "      <td>CARD_PAYMENT</td>\n",
       "      <td>GAIA</td>\n",
       "      <td>f8cc04ac-5311-45fd-b1e6-8c8018ede30e</td>\n",
       "      <td>3469</td>\n",
       "    </tr>\n",
       "    <tr>\n",
       "      <th>262</th>\n",
       "      <td>USD</td>\n",
       "      <td>4141</td>\n",
       "      <td>COMPLETED</td>\n",
       "      <td>2017-12-20 16:45:00.705</td>\n",
       "      <td>cafe</td>\n",
       "      <td>USA</td>\n",
       "      <td>chip</td>\n",
       "      <td>931a81d5-eeb2-4e24-b05d-efb10c6a9c3a</td>\n",
       "      <td>CARD_PAYMENT</td>\n",
       "      <td>GAIA</td>\n",
       "      <td>3509d520-6a01-4048-9ea2-35537b89961d</td>\n",
       "      <td>4141</td>\n",
       "    </tr>\n",
       "    <tr>\n",
       "      <th>268</th>\n",
       "      <td>USD</td>\n",
       "      <td>138</td>\n",
       "      <td>COMPLETED</td>\n",
       "      <td>2017-12-20 16:53:45.136</td>\n",
       "      <td>point_of_interest</td>\n",
       "      <td>USA</td>\n",
       "      <td>mags</td>\n",
       "      <td>a7db1101-a76c-48bc-a84c-2eface9eea4f</td>\n",
       "      <td>CARD_PAYMENT</td>\n",
       "      <td>GAIA</td>\n",
       "      <td>430f6b53-543b-4c04-be09-12b46a8770c9</td>\n",
       "      <td>138</td>\n",
       "    </tr>\n",
       "  </tbody>\n",
       "</table>\n",
       "</div>"
      ],
      "text/plain": [
       "    CURRENCY  AMOUNT      STATE             CREATED_DATE  MERCHANT_CATEGORY  \\\n",
       "69       USD  470000  COMPLETED  2017-12-20 13:36:53.784                NaN   \n",
       "197      USD     100   REVERTED  2017-12-20 15:54:00.912                atm   \n",
       "214      USD    3469  COMPLETED  2017-12-20 16:30:39.077                NaN   \n",
       "262      USD    4141  COMPLETED  2017-12-20 16:45:00.705               cafe   \n",
       "268      USD     138  COMPLETED  2017-12-20 16:53:45.136  point_of_interest   \n",
       "\n",
       "    MERCHANT_COUNTRY ENTRY_METHOD                               USER_ID  \\\n",
       "69               NaN         misc  50711c3a-c796-45d0-b84e-585a2048491d   \n",
       "197              GBR         manu  c1e14f12-eb4b-4d9e-967c-e5f4ccd39197   \n",
       "214              BHS         chip  4ada4c42-4d43-4820-ab37-349c8030f1b0   \n",
       "262              USA         chip  931a81d5-eeb2-4e24-b05d-efb10c6a9c3a   \n",
       "268              USA         mags  a7db1101-a76c-48bc-a84c-2eface9eea4f   \n",
       "\n",
       "              TYPE  SOURCE                                    ID  AMOUNT_USD  \n",
       "69   BANK_TRANSFER  CRONUS  7a0cca0b-c78f-4599-99d6-44a29e69b4f5      470000  \n",
       "197   CARD_PAYMENT    GAIA  503e4a7a-e064-4434-b35b-484f475666f4         100  \n",
       "214   CARD_PAYMENT    GAIA  f8cc04ac-5311-45fd-b1e6-8c8018ede30e        3469  \n",
       "262   CARD_PAYMENT    GAIA  3509d520-6a01-4048-9ea2-35537b89961d        4141  \n",
       "268   CARD_PAYMENT    GAIA  430f6b53-543b-4c04-be09-12b46a8770c9         138  "
      ]
     },
     "execution_count": 7,
     "metadata": {},
     "output_type": "execute_result"
    }
   ],
   "source": [
    "df_USD = df[df['CURRENCY'] == 'USD']\n",
    "df_USD.head()"
   ]
  },
  {
   "cell_type": "code",
   "execution_count": 8,
   "metadata": {},
   "outputs": [
    {
     "name": "stdout",
     "output_type": "stream",
     "text": [
      "average: 11599\n",
      "mediam: 2000\n"
     ]
    }
   ],
   "source": [
    "amount = df_USD['AMOUNT']\n",
    "\n",
    "avg_USD = amount.mean()\n",
    "mid_USD = amount.median()\n",
    "\n",
    "print(f'average: {round(avg_USD)}\\nmediam: {round(mid_USD)}')"
   ]
  },
  {
   "cell_type": "markdown",
   "metadata": {},
   "source": [
    "### 4. Construct a table showing the number of transactions in EACH currency"
   ]
  },
  {
   "cell_type": "code",
   "execution_count": 9,
   "metadata": {},
   "outputs": [
    {
     "data": {
      "text/plain": [
       "GBP    339091\n",
       "EUR    264695\n",
       "USD     31542\n",
       "PLN     22362\n",
       "RON      5837\n",
       "CHF      5761\n",
       "NOK      2602\n",
       "AUD      2110\n",
       "DKK      1711\n",
       "SEK      1579\n",
       "CZK      1507\n",
       "CAD      1463\n",
       "HUF      1446\n",
       "ZAR      1126\n",
       "AED       847\n",
       "JPY       733\n",
       "NZD       717\n",
       "THB       690\n",
       "ILS       522\n",
       "SGD       487\n",
       "HKD       480\n",
       "TRY       338\n",
       "BTC       283\n",
       "INR       207\n",
       "ETH       197\n",
       "LTC       137\n",
       "MAD       115\n",
       "XRP        38\n",
       "QAR        28\n",
       "Name: CURRENCY, dtype: int64"
      ]
     },
     "execution_count": 9,
     "metadata": {},
     "output_type": "execute_result"
    }
   ],
   "source": [
    "df['CURRENCY'].value_counts()"
   ]
  },
  {
   "cell_type": "code",
   "execution_count": null,
   "metadata": {},
   "outputs": [],
   "source": []
  }
 ],
 "metadata": {
  "kernelspec": {
   "display_name": "Python 3",
   "language": "python",
   "name": "python3"
  },
  "language_info": {
   "codemirror_mode": {
    "name": "ipython",
    "version": 3
   },
   "file_extension": ".py",
   "mimetype": "text/x-python",
   "name": "python",
   "nbconvert_exporter": "python",
   "pygments_lexer": "ipython3",
   "version": "3.8.8"
  }
 },
 "nbformat": 4,
 "nbformat_minor": 4
}
